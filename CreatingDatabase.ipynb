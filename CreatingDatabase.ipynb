{
  "nbformat": 4,
  "nbformat_minor": 0,
  "metadata": {
    "colab": {
      "name": "CreatingDatabase.ipynb",
      "provenance": [],
      "mount_file_id": "1amomww_DP57EMCWdd5ptWDLJW41j9OoP",
      "authorship_tag": "ABX9TyPkor76Z9p5IrX0EDb3KNn5",
      "include_colab_link": true
    },
    "kernelspec": {
      "name": "python3",
      "display_name": "Python 3"
    },
    "language_info": {
      "name": "python"
    }
  },
  "cells": [
    {
      "cell_type": "markdown",
      "metadata": {
        "id": "view-in-github",
        "colab_type": "text"
      },
      "source": [
        "<a href=\"https://colab.research.google.com/github/gbam-ds/Mono/blob/main/CreatingDatabase.ipynb\" target=\"_parent\"><img src=\"https://colab.research.google.com/assets/colab-badge.svg\" alt=\"Open In Colab\"/></a>"
      ]
    },
    {
      "cell_type": "markdown",
      "source": [
        "Neste notebook, criarei a base de dados que utilizarei para a produção da monografia da graduação de Relações Internacionais da FGV. Para isso, concatenarei e manipularei diferentes bases para criar uma nova passível de análise."
      ],
      "metadata": {
        "id": "GKm5jJaFysep"
      }
    },
    {
      "cell_type": "markdown",
      "source": [
        "##Latinobarometro"
      ],
      "metadata": {
        "id": "j-VwtICTzauB"
      }
    },
    {
      "cell_type": "markdown",
      "source": [
        "Pensando em dados para os últimos 10 anos, o Latinobarometro possui bases para 2020, 2018, 2017, 2016, 2015 e 2013."
      ],
      "metadata": {
        "id": "_5psrEJ2zeZc"
      }
    },
    {
      "cell_type": "code",
      "source": [
        "import pyreadr\n",
        "labar20 = pyreadr.read_r(\"/content/drive/MyDrive/Latinobarometro/Latinobarometro_2020_Esp_Rds_v1_0.rds\")\n",
        "labar20"
      ],
      "metadata": {
        "colab": {
          "base_uri": "https://localhost:8080/"
        },
        "id": "1D7CLmnj6djZ",
        "outputId": "cfd3292d-6a31-46e2-bfbc-214a60396c5b"
      },
      "execution_count": 16,
      "outputs": [
        {
          "output_type": "execute_result",
          "data": {
            "text/plain": [
              "OrderedDict([(None,\n",
              "                     numinves  idenpa    numentre       reg       ciudad  tamciud  comdist  \\\n",
              "              0        2020.0    32.0   3200001.0   32002.0   32301917.0     -4.0      2.0   \n",
              "              1        2020.0    32.0   3200002.0   32001.0   32001001.0     -4.0      1.0   \n",
              "              2        2020.0    32.0   3200003.0   32002.0   32301955.0     -4.0    280.0   \n",
              "              3        2020.0    32.0   3200004.0   32002.0   32301932.0     -4.0    230.0   \n",
              "              4        2020.0    32.0   3200005.0   32211.0   32211004.0     -4.0    926.0   \n",
              "              ...         ...     ...         ...       ...          ...      ...      ...   \n",
              "              20199    2020.0   862.0  86201196.0  862031.0  862023001.0      2.0    200.0   \n",
              "              20200    2020.0   862.0  86201197.0  862031.0  862023001.0      2.0    200.0   \n",
              "              20201    2020.0   862.0  86201198.0  862031.0  862023001.0      2.0    200.0   \n",
              "              20202    2020.0   862.0  86201199.0  862031.0  862023001.0      2.0    200.0   \n",
              "              20203    2020.0   862.0  86201200.0  862031.0  862023001.0      2.0    200.0   \n",
              "              \n",
              "                     edad  sexo  codigo  ...  s28_a  s28_b  s29  s30  reeduc_1  reeduc_2  \\\n",
              "              0      63.0   2.0    -4.0  ...    3.0   -3.0  5.0 -4.0       2.0       1.0   \n",
              "              1      24.0   1.0    -4.0  ...   -3.0   -3.0 -3.0 -4.0       6.0       3.0   \n",
              "              2      20.0   1.0    -4.0  ...    1.0   -3.0  4.0 -4.0       2.0       2.0   \n",
              "              3      54.0   2.0    -4.0  ...    4.0    3.0 -3.0 -4.0       3.0       3.0   \n",
              "              4      38.0   1.0    -4.0  ...   -3.0   -3.0 -3.0 -4.0       3.0       3.0   \n",
              "              ...     ...   ...     ...  ...    ...    ...  ...  ...       ...       ...   \n",
              "              20199  51.0   2.0    11.0  ...    1.0   -3.0  3.0  3.0       3.0       0.0   \n",
              "              20200  46.0   2.0    75.0  ...    1.0   -3.0  4.0  3.0       5.0       1.0   \n",
              "              20201  19.0   2.0    10.0  ...    3.0   -3.0  8.0  3.0       5.0       5.0   \n",
              "              20202  48.0   2.0    11.0  ...    1.0   -3.0  4.0  3.0       5.0       0.0   \n",
              "              20203  33.0   2.0    75.0  ...    1.0   -3.0  4.0  3.0       3.0       0.0   \n",
              "              \n",
              "                     reedad  perpart  fampart    wt  \n",
              "              0         4.0      4.0     99.0  2.20  \n",
              "              1         1.0      1.0     30.0  0.62  \n",
              "              2         1.0      4.0     99.0  2.93  \n",
              "              3         3.0      3.0     99.0  1.92  \n",
              "              4         2.0      2.0     30.0  2.73  \n",
              "              ...       ...      ...      ...   ...  \n",
              "              20199     3.0      4.0      0.0  0.86  \n",
              "              20200     3.0      4.0      0.0  0.86  \n",
              "              20201     1.0      4.0      0.0  1.42  \n",
              "              20202     3.0      4.0      0.0  0.86  \n",
              "              20203     2.0      4.0      0.0  1.19  \n",
              "              \n",
              "              [20204 rows x 408 columns])])"
            ]
          },
          "metadata": {},
          "execution_count": 16
        }
      ]
    },
    {
      "cell_type": "code",
      "execution_count": 17,
      "metadata": {
        "colab": {
          "base_uri": "https://localhost:8080/"
        },
        "id": "ndevq5OGyk9p",
        "outputId": "fe6a5f6f-2982-4197-9b41-c9e2f3ed0afc"
      },
      "outputs": [
        {
          "output_type": "execute_result",
          "data": {
            "text/plain": [
              "OrderedDict([(None,\n",
              "                     NUMINVES  IDENPA   NUMENTRE       REG       CIUDAD  TAMCIUD  COMDIST  \\\n",
              "              0        2018.0    32.0   320001.0   32301.0   32001001.0      7.0      1.0   \n",
              "              1        2018.0    32.0   320002.0   32301.0   32001001.0      7.0      1.0   \n",
              "              2        2018.0    32.0   320003.0   32301.0   32001001.0      7.0      1.0   \n",
              "              3        2018.0    32.0   320004.0   32301.0   32001001.0      7.0      1.0   \n",
              "              4        2018.0    32.0   320005.0   32301.0   32001001.0      7.0      1.0   \n",
              "              ...         ...     ...        ...       ...          ...      ...      ...   \n",
              "              20199    2018.0   862.0  8621196.0  862033.0  862003004.0      5.0    219.0   \n",
              "              20200    2018.0   862.0  8621197.0  862033.0  862003004.0      5.0    219.0   \n",
              "              20201    2018.0   862.0  8621198.0  862033.0  862003004.0      5.0    219.0   \n",
              "              20202    2018.0   862.0  8621199.0  862033.0  862003004.0      5.0    219.0   \n",
              "              20203    2018.0   862.0  8621200.0  862033.0  862003004.0      5.0    219.0   \n",
              "              \n",
              "                     EDAD  SEXO  CODENC  ...         S24  S25  S26  S27  REEDUC.1  REEDUC.2  \\\n",
              "              0      46.0   2.0    46.0  ...  19711105.0  1.0  4.0  1.0       1.0       2.0   \n",
              "              1      79.0   2.0    46.0  ...  19380824.0  2.0  3.0  1.0       1.0       1.0   \n",
              "              2      22.0   1.0    46.0  ...  19950831.0  1.0  3.0  1.0       3.0       2.0   \n",
              "              3      72.0   2.0    46.0  ...  19460221.0  1.0  3.0  1.0       1.0       0.0   \n",
              "              4      29.0   2.0    46.0  ...  19890109.0  2.0  2.0  1.0       3.0       2.0   \n",
              "              ...     ...   ...     ...  ...         ...  ...  ...  ...       ...       ...   \n",
              "              20199  22.0   2.0    33.0  ...  19960609.0  1.0  3.0  1.0       2.0       1.0   \n",
              "              20200  26.0   2.0    33.0  ...  19911217.0  1.0  4.0  1.0       2.0       2.0   \n",
              "              20201  23.0   2.0    33.0  ...  19950317.0  2.0  3.0  1.0       3.0       1.0   \n",
              "              20202  35.0   1.0    33.0  ...  19830227.0  1.0  3.0  1.0       2.0       1.0   \n",
              "              20203  26.0   2.0    33.0  ...  19911121.0  1.0  2.0  1.0       3.0       1.0   \n",
              "              \n",
              "                     REEDAD  PERPART  FAMPART     WT  \n",
              "              0         3.0      2.0     30.0  1.496  \n",
              "              1         4.0      2.0     30.0  1.496  \n",
              "              2         1.0      2.0     30.0  0.952  \n",
              "              3         4.0      1.0     30.0  1.496  \n",
              "              4         2.0      1.0     30.0  0.952  \n",
              "              ...       ...      ...      ...    ...  \n",
              "              20199     1.0      4.0      0.0  1.030  \n",
              "              20200     2.0      4.0      0.0  0.950  \n",
              "              20201     1.0      4.0      0.0  1.030  \n",
              "              20202     2.0      1.0     70.0  1.372  \n",
              "              20203     2.0      1.0     70.0  0.950  \n",
              "              \n",
              "              [20204 rows x 395 columns])])"
            ]
          },
          "metadata": {},
          "execution_count": 17
        }
      ],
      "source": [
        "labar18 = pyreadr.read_r(\"/content/drive/MyDrive/Latinobarometro/Labar_2018/Latinobarometro_2018_Esp_R_v20190303.rds\")\n",
        "labar18"
      ]
    },
    {
      "cell_type": "code",
      "source": [
        ""
      ],
      "metadata": {
        "id": "DhDiN7IT5-FI"
      },
      "execution_count": null,
      "outputs": []
    }
  ]
}